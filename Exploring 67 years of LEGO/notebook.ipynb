{
 "cells": [
  {
   "cell_type": "markdown",
   "metadata": {
    "dc": {
     "key": "1d0b086e6c"
    },
    "deletable": false,
    "editable": false,
    "run_control": {
     "frozen": true
    },
    "tags": [
     "context"
    ]
   },
   "source": [
    "## 1. Introduction\n",
    "<p>Everyone loves Lego (unless you ever stepped on one). Did you know by the way that \"Lego\" was derived from the Danish phrase leg godt, which means \"play well\"? Unless you speak Danish, probably not. </p>\n",
    "<p>In this project, we will analyze a fascinating dataset on every single lego block that has ever been built!</p>\n",
    "![lego](images/lego-bricks.jpeg)"
   ]
  },
  {
   "cell_type": "code",
   "execution_count": 0,
   "metadata": {
    "collapsed": true,
    "dc": {
     "key": "1d0b086e6c"
    },
    "tags": [
     "sample_code"
    ]
   },
   "outputs": [],
   "source": [
    "# Nothing to do here"
   ]
  },
  {
   "cell_type": "markdown",
   "metadata": {
    "dc": {
     "key": "044b2cef41"
    },
    "deletable": false,
    "editable": false,
    "run_control": {
     "frozen": true
    },
    "tags": [
     "context"
    ]
   },
   "source": [
    "## 2. Reading Data\n",
    "<p>A comprehensive database of lego blocks is provided by <a href=\"https://rebrickable.com/downloads/\">Rebrickable</a>. The data is available as csv files and the schema is shown below.</p>\n",
    "![schema](images/downloads_schema.png)"
    "<p>Let us start by reading in the colors data to get a sense of the diversity of lego sets!</p>"
   ]
  },
  {
   "cell_type": "code",
   "execution_count": 2,
   "metadata": {
    "dc": {
     "key": "044b2cef41"
    },
    "tags": [
     "sample_code"
    ]
   },
   "outputs": [
    {
     "data": {
      "text/html": [
       "<div>\n",
       "<style scoped>\n",
       "    .dataframe tbody tr th:only-of-type {\n",
       "        vertical-align: middle;\n",
       "    }\n",
       "\n",
       "    .dataframe tbody tr th {\n",
       "        vertical-align: top;\n",
       "    }\n",
       "\n",
       "    .dataframe thead th {\n",
       "        text-align: right;\n",
       "    }\n",
       "</style>\n",
       "<table border=\"1\" class=\"dataframe\">\n",
       "  <thead>\n",
       "    <tr style=\"text-align: right;\">\n",
       "      <th></th>\n",
       "      <th>id</th>\n",
       "      <th>name</th>\n",
       "      <th>rgb</th>\n",
       "      <th>is_trans</th>\n",
       "    </tr>\n",
       "  </thead>\n",
       "  <tbody>\n",
       "    <tr>\n",
       "      <th>0</th>\n",
       "      <td>-1</td>\n",
       "      <td>Unknown</td>\n",
       "      <td>0033B2</td>\n",
       "      <td>f</td>\n",
       "    </tr>\n",
       "    <tr>\n",
       "      <th>1</th>\n",
       "      <td>0</td>\n",
       "      <td>Black</td>\n",
       "      <td>05131D</td>\n",
       "      <td>f</td>\n",
       "    </tr>\n",
       "    <tr>\n",
       "      <th>2</th>\n",
       "      <td>1</td>\n",
       "      <td>Blue</td>\n",
       "      <td>0055BF</td>\n",
       "      <td>f</td>\n",
       "    </tr>\n",
       "    <tr>\n",
       "      <th>3</th>\n",
       "      <td>2</td>\n",
       "      <td>Green</td>\n",
       "      <td>237841</td>\n",
       "      <td>f</td>\n",
       "    </tr>\n",
       "    <tr>\n",
       "      <th>4</th>\n",
       "      <td>3</td>\n",
       "      <td>Dark Turquoise</td>\n",
       "      <td>008F9B</td>\n",
       "      <td>f</td>\n",
       "    </tr>\n",
       "  </tbody>\n",
       "</table>\n",
       "</div>"
      ],
      "text/plain": [
       "   id            name     rgb is_trans\n",
       "0  -1         Unknown  0033B2        f\n",
       "1   0           Black  05131D        f\n",
       "2   1            Blue  0055BF        f\n",
       "3   2           Green  237841        f\n",
       "4   3  Dark Turquoise  008F9B        f"
      ]
     },
     "execution_count": 2,
     "metadata": {},
     "output_type": "execute_result"
    }
   ],
   "source": [
    "# Import modules\n",
    "import pandas as pd\n",
    "\n",
    "# Read colors data\n",
    "colors = pd.read_csv('datasets/colors.csv')\n",
    "\n",
    "# Print the first few rows\n",
    "colors.head()"
   ]
  },
  {
   "cell_type": "markdown",
   "metadata": {
    "dc": {
     "key": "15c1e2ce38"
    },
    "deletable": false,
    "editable": false,
    "run_control": {
     "frozen": true
    },
    "tags": [
     "context"
    ]
   },
   "source": [
    "## 3. Exploring Colors\n",
    "<p>Now that we have read the <code>colors</code> data, we can start exploring it! Let us start by understanding the number of colors available.</p>"
   ]
  },
  {
   "cell_type": "code",
   "execution_count": 4,
   "metadata": {
    "dc": {
     "key": "15c1e2ce38"
    },
    "scrolled": false,
    "tags": [
     "sample_code"
    ]
   },
   "outputs": [
    {
     "name": "stdout",
     "output_type": "stream",
     "text": [
      "135\n"
     ]
    }
   ],
   "source": [
    "# How many distinct colors are available?\n",
    "num_colors = colors.id.count()\n",
    "print(num_colors)\n"
   ]
  },
  {
   "cell_type": "markdown",
   "metadata": {
    "dc": {
     "key": "a5723ae5c2"
    },
    "deletable": false,
    "editable": false,
    "run_control": {
     "frozen": true
    },
    "tags": [
     "context"
    ]
   },
   "source": [
    "## 4. Transparent Colors in Lego Sets\n",
    "<p>The <code>colors</code> data has a column named <code>is_trans</code> that indicates whether a color is transparent or not. It would be interesting to explore the distribution of transparent vs. non-transparent colors.</p>"
   ]
  },
  {
   "cell_type": "code",
   "execution_count": 5,
   "metadata": {
    "dc": {
     "key": "a5723ae5c2"
    },
    "tags": [
     "sample_code"
    ]
   },
   "outputs": [
    {
     "name": "stdout",
     "output_type": "stream",
     "text": [
      "           id  name  rgb\n",
      "is_trans                \n",
      "f         107   107  107\n",
      "t          28    28   28\n"
     ]
    }
   ],
   "source": [
    "# colors_summary: Distribution of colors based on transparency\n",
    "colors_summary = colors.groupby('is_trans').count()\n",
    "print(colors_summary)"
   ]
  },
  {
   "cell_type": "markdown",
   "metadata": {
    "dc": {
     "key": "c9d0e58653"
    },
    "deletable": false,
    "editable": false,
    "run_control": {
     "frozen": true
    },
    "tags": [
     "context"
    ]
   },
   "source": [
    "## 5. Explore Lego Sets\n",
    "<p>Another interesting dataset available in this database is the <code>sets</code> data. It contains a comprehensive list of sets over the years and the number of parts that each of these sets contained. </p>\n",
    "<p><img src=\"https://imgur.com/1k4PoXs.png\" alt=\"sets_data\"></p>\n",
    "<p>Let us use this data to explore how the average number of parts in Lego sets has varied over the years.</p>"
   ]
  },
  {
   "cell_type": "code",
   "execution_count": 6,
   "metadata": {
    "dc": {
     "key": "c9d0e58653"
    },
    "tags": [
     "sample_code"
    ]
   },
   "outputs": [
    {
     "name": "stdout",
     "output_type": "stream",
     "text": [
      "year\n",
      "1950    10.142857\n",
      "1953    16.500000\n",
      "1954    12.357143\n",
      "1955    36.857143\n",
      "1956    18.500000\n",
      "Name: num_parts, dtype: float64\n"
     ]
    },
    {
     "data": {
      "image/png": "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\n",
      "text/plain": [
       "<Figure size 432x288 with 1 Axes>"
      ]
     },
     "metadata": {
      "needs_background": "light"
     },
     "output_type": "display_data"
    }
   ],
   "source": [
    "%matplotlib inline\n",
    "\n",
    "# Read sets data as `sets`\n",
    "sets = pd.read_csv('datasets/sets.csv')\n",
    "\n",
    "# Create a summary of average number of parts by year: `parts_by_year`\n",
    "parts_by_year = sets.groupby('year')['num_parts'].mean()\n",
    "print(parts_by_year.head())\n",
    "\n",
    "# Plot trends in average number of parts by year\n",
    "import matplotlib.pyplot as plt\n",
    "parts_by_year.plot(x = 'year', y = 'num_parts')\n",
    "plt.show()"
   ]
  },
  {
   "cell_type": "markdown",
   "metadata": {
    "dc": {
     "key": "266a3f390c"
    },
    "deletable": false,
    "editable": false,
    "run_control": {
     "frozen": true
    },
    "tags": [
     "context"
    ]
   },
   "source": [
    "## 6. Lego Themes Over Years\n",
    "<p>Lego blocks ship under multiple <a href=\"https://shop.lego.com/en-US/Themes\">themes</a>. Let us try to get a sense of how the number of themes shipped has varied over the years.</p>"
   ]
  },
  {
   "cell_type": "code",
   "execution_count": 7,
   "metadata": {
    "dc": {
     "key": "266a3f390c"
    },
    "tags": [
     "sample_code"
    ]
   },
   "outputs": [
    {
     "name": "stdout",
     "output_type": "stream",
     "text": [
      "   year  theme_id\n",
      "0  1950         7\n",
      "1  1953         4\n",
      "2  1954        14\n",
      "3  1955        28\n",
      "4  1956        12\n"
     ]
    }
   ],
   "source": [
    "# themes_by_year: Number of themes shipped by year\n",
    "themes_by_year = sets.groupby('year',as_index=False)['theme_id'].count()\n",
    "print(themes_by_year.head())"
   ]
  },
  {
   "cell_type": "markdown",
   "metadata": {
    "dc": {
     "key": "a293e5076e"
    },
    "deletable": false,
    "editable": false,
    "run_control": {
     "frozen": true
    },
    "tags": [
     "context"
    ]
   },
   "source": [
    "## 7. Wrapping It All Up!\n",
    "<p>Lego blocks offer an unlimited amount of fun across ages. We explored some interesting trends around colors, parts, and themes. </p>"
   ]
  },
  {
   "cell_type": "code",
   "execution_count": 0,
   "metadata": {
    "collapsed": true,
    "dc": {
     "key": "a293e5076e"
    },
    "tags": [
     "sample_code"
    ]
   },
   "outputs": [],
   "source": [
    "# Nothing to do here"
   ]
  }
 ],
 "metadata": {
  "kernelspec": {
   "display_name": "Python 3",
   "language": "python",
   "name": "python3"
  },
  "language_info": {
   "codemirror_mode": {
    "name": "ipython",
    "version": 3
   },
   "file_extension": ".py",
   "mimetype": "text/x-python",
   "name": "python",
   "nbconvert_exporter": "python",
   "pygments_lexer": "ipython3",
   "version": "3.7.1"
  }
 },
 "nbformat": 4,
 "nbformat_minor": 2
}
